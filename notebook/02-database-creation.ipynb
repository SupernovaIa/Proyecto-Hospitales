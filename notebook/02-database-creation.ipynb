{
 "cells": [
  {
   "cell_type": "code",
   "execution_count": 1,
   "metadata": {},
   "outputs": [],
   "source": [
    "# Working with databases in Python\n",
    "# -----------------------------------------------------------------------\n",
    "import psycopg2\n",
    "from psycopg2 import OperationalError, errorcodes, errors\n",
    "\n",
    "# Working with Dataframes\n",
    "# -----------------------------------------------------------------------\n",
    "import pandas as pd\n",
    "import numpy as np\n",
    "\n",
    "# Path configuration for custom module imports\n",
    "# -----------------------------------------------------------------------\n",
    "import sys\n",
    "sys.path.append('../')  # Adds the parent directory to the path for custom module imports\n",
    "\n",
    "from src.support import table_creation, data_insertion\n",
    "from src.support_queries import query_creation_ingresos, query_creation_gastos, query_creation_hospitales, query_creation_tipo_hosp"
   ]
  },
  {
   "cell_type": "markdown",
   "metadata": {},
   "source": [
    "### Creación de tablas"
   ]
  },
  {
   "cell_type": "code",
   "execution_count": 2,
   "metadata": {},
   "outputs": [],
   "source": [
    "# List of queries ordered\n",
    "queries = [query_creation_hospitales, query_creation_tipo_hosp, query_creation_gastos, query_creation_ingresos]"
   ]
  },
  {
   "cell_type": "code",
   "execution_count": 3,
   "metadata": {},
   "outputs": [
    {
     "name": "stdout",
     "output_type": "stream",
     "text": [
      "Tables created successfully.\n",
      "Database connection closed.\n"
     ]
    }
   ],
   "source": [
    "table_creation(queries)"
   ]
  },
  {
   "cell_type": "markdown",
   "metadata": {},
   "source": [
    "### Inserción datos"
   ]
  },
  {
   "cell_type": "code",
   "execution_count": null,
   "metadata": {},
   "outputs": [],
   "source": [
    "# Hospitales\n",
    "query_insertion_hospitales = \"\"\"\n",
    "INSERT INTO hospitales (ncodi, name)\n",
    "VALUES\n",
    "(%s, %s);\n",
    "\"\"\"\n",
    "\n",
    "# Tipo hospitalización\n",
    "query_insertion_tipo_hosp = \"\"\"\n",
    "INSERT INTO tipo_hospitalizacion (tipo_id, nombre)\n",
    "VALUES\n",
    "(%s, %s);\n",
    "\"\"\"\n",
    "\n",
    "# Gastos\n",
    "query_insertion_gastos = \"\"\"\n",
    "INSERT INTO gastos (anio, totalcompra, producfarma, materialsani, implantes, restomateriasani, servcontratado, trabajocontratado, xrestocompras variaexistencias, servexteriores, sumistro, xrestoserviexter, gastopersonal, sueldos, indemnizacion, segsocempresa, otrgassocial, dotaamortizacion, perdidadeterioro, xrestogasto, totcompragasto, ncodi)\n",
    "VALUES\n",
    "(%s, %s, %s, %s, %s, %s, %s, %s, %s, %s, %s, %s, %s, %s, %s, %s, %s, %s, %s, %s, %s, %s, %s, %s)\n",
    "\"\"\"\n",
    "\n",
    "# Ingresos\n",
    "query_insertion_ingresos = \"\"\"\n",
    "INSERT INTO ingresos (particulares, aseguradoras, aseguradoras_enfermedad, aseguradoras_trafico, mutuas, tipo_id, anio, ncodi)\n",
    "VALUES\n",
    "(%s, %s, %s, %s, %s, %s, %s)\n",
    "\"\"\""
   ]
  },
  {
   "cell_type": "code",
   "execution_count": 63,
   "metadata": {},
   "outputs": [],
   "source": [
    "df_gastos = pd.read_csv('../data/gastos.csv')\n",
    "df_ingresos = pd.read_csv('../data/ingresos.csv', index_col=0)"
   ]
  },
  {
   "cell_type": "code",
   "execution_count": 64,
   "metadata": {},
   "outputs": [
    {
     "name": "stderr",
     "output_type": "stream",
     "text": [
      "/var/folders/gf/rtshnkx974q994djpf858hv40000gn/T/ipykernel_61546/636064590.py:2: FutureWarning: A value is trying to be set on a copy of a DataFrame or Series through chained assignment using an inplace method.\n",
      "The behavior will change in pandas 3.0. This inplace method will never work because the intermediate object on which we are setting values always behaves as a copy.\n",
      "\n",
      "For example, when doing 'df[col].method(value, inplace=True)', try using 'df.method({col: value}, inplace=True)' or df[col] = df[col].method(value) instead, to perform the operation inplace on the original object.\n",
      "\n",
      "\n",
      "  df_gastos['ncodi'].replace({np.nan: 0}, inplace=True)\n"
     ]
    }
   ],
   "source": [
    "# Reemplazamos NaN por 0\n",
    "df_gastos['ncodi'].replace({np.nan: 0}, inplace=True)\n",
    "df_gastos['ncodi'] = df_gastos['ncodi'].astype(int)"
   ]
  },
  {
   "cell_type": "code",
   "execution_count": 65,
   "metadata": {},
   "outputs": [
    {
     "name": "stderr",
     "output_type": "stream",
     "text": [
      "/var/folders/gf/rtshnkx974q994djpf858hv40000gn/T/ipykernel_61546/1631407132.py:2: FutureWarning: A value is trying to be set on a copy of a DataFrame or Series through chained assignment using an inplace method.\n",
      "The behavior will change in pandas 3.0. This inplace method will never work because the intermediate object on which we are setting values always behaves as a copy.\n",
      "\n",
      "For example, when doing 'df[col].method(value, inplace=True)', try using 'df.method({col: value}, inplace=True)' or df[col] = df[col].method(value) instead, to perform the operation inplace on the original object.\n",
      "\n",
      "\n",
      "  df_ingresos['ncodi'].replace({np.nan: 0}, inplace=True)\n"
     ]
    }
   ],
   "source": [
    "df_ingresos['ncodi'] = df_ingresos['ncodi'].str.replace(',', '.').astype(float)\n",
    "df_ingresos['ncodi'].replace({np.nan: 0}, inplace=True)\n",
    "df_ingresos['ncodi'] = df_ingresos['ncodi'].astype(int)"
   ]
  },
  {
   "cell_type": "code",
   "execution_count": 73,
   "metadata": {},
   "outputs": [],
   "source": [
    "df_tipo_hosp = pd.Series(df_ingresos['tipo'].unique()).reset_index().rename(columns={'index': 'tipo_id', 0: 'nombre'})"
   ]
  },
  {
   "cell_type": "code",
   "execution_count": 77,
   "metadata": {},
   "outputs": [
    {
     "data": {
      "text/html": [
       "<div>\n",
       "<style scoped>\n",
       "    .dataframe tbody tr th:only-of-type {\n",
       "        vertical-align: middle;\n",
       "    }\n",
       "\n",
       "    .dataframe tbody tr th {\n",
       "        vertical-align: top;\n",
       "    }\n",
       "\n",
       "    .dataframe thead th {\n",
       "        text-align: right;\n",
       "    }\n",
       "</style>\n",
       "<table border=\"1\" class=\"dataframe\">\n",
       "  <thead>\n",
       "    <tr style=\"text-align: right;\">\n",
       "      <th></th>\n",
       "      <th>particulares</th>\n",
       "      <th>aseguradoras</th>\n",
       "      <th>aseguradoras_enfermedad</th>\n",
       "      <th>aseguradoreas_trafico</th>\n",
       "      <th>mutuas</th>\n",
       "      <th>tipo</th>\n",
       "      <th>año</th>\n",
       "      <th>ncodi</th>\n",
       "    </tr>\n",
       "  </thead>\n",
       "  <tbody>\n",
       "    <tr>\n",
       "      <th>0</th>\n",
       "      <td>0.0</td>\n",
       "      <td>103677.0</td>\n",
       "      <td>64383.0</td>\n",
       "      <td>39294.0</td>\n",
       "      <td>61456.0</td>\n",
       "      <td>Hospital</td>\n",
       "      <td>2013</td>\n",
       "      <td>990</td>\n",
       "    </tr>\n",
       "    <tr>\n",
       "      <th>1</th>\n",
       "      <td>324687.0</td>\n",
       "      <td>478280.0</td>\n",
       "      <td>392084.0</td>\n",
       "      <td>86196.0</td>\n",
       "      <td>484228.0</td>\n",
       "      <td>Hospital</td>\n",
       "      <td>2013</td>\n",
       "      <td>680</td>\n",
       "    </tr>\n",
       "    <tr>\n",
       "      <th>2</th>\n",
       "      <td>793512.0</td>\n",
       "      <td>1803352.0</td>\n",
       "      <td>1803352.0</td>\n",
       "      <td>0.0</td>\n",
       "      <td>20402.0</td>\n",
       "      <td>Hospital</td>\n",
       "      <td>2013</td>\n",
       "      <td>411</td>\n",
       "    </tr>\n",
       "    <tr>\n",
       "      <th>3</th>\n",
       "      <td>0.0</td>\n",
       "      <td>0.0</td>\n",
       "      <td>0.0</td>\n",
       "      <td>0.0</td>\n",
       "      <td>0.0</td>\n",
       "      <td>Hospital</td>\n",
       "      <td>2013</td>\n",
       "      <td>241</td>\n",
       "    </tr>\n",
       "    <tr>\n",
       "      <th>4</th>\n",
       "      <td>24406.0</td>\n",
       "      <td>63557.0</td>\n",
       "      <td>55091.0</td>\n",
       "      <td>8466.0</td>\n",
       "      <td>44106.0</td>\n",
       "      <td>Hospital</td>\n",
       "      <td>2013</td>\n",
       "      <td>558</td>\n",
       "    </tr>\n",
       "    <tr>\n",
       "      <th>...</th>\n",
       "      <td>...</td>\n",
       "      <td>...</td>\n",
       "      <td>...</td>\n",
       "      <td>...</td>\n",
       "      <td>...</td>\n",
       "      <td>...</td>\n",
       "      <td>...</td>\n",
       "      <td>...</td>\n",
       "    </tr>\n",
       "    <tr>\n",
       "      <th>55321</th>\n",
       "      <td>0.0</td>\n",
       "      <td>0.0</td>\n",
       "      <td>0.0</td>\n",
       "      <td>0.0</td>\n",
       "      <td>0.0</td>\n",
       "      <td>hospDom</td>\n",
       "      <td>2016</td>\n",
       "      <td>970</td>\n",
       "    </tr>\n",
       "    <tr>\n",
       "      <th>55322</th>\n",
       "      <td>0.0</td>\n",
       "      <td>0.0</td>\n",
       "      <td>0.0</td>\n",
       "      <td>0.0</td>\n",
       "      <td>0.0</td>\n",
       "      <td>hospDom</td>\n",
       "      <td>2016</td>\n",
       "      <td>1019</td>\n",
       "    </tr>\n",
       "    <tr>\n",
       "      <th>55323</th>\n",
       "      <td>0.0</td>\n",
       "      <td>0.0</td>\n",
       "      <td>0.0</td>\n",
       "      <td>0.0</td>\n",
       "      <td>0.0</td>\n",
       "      <td>hospDom</td>\n",
       "      <td>2016</td>\n",
       "      <td>1016</td>\n",
       "    </tr>\n",
       "    <tr>\n",
       "      <th>55324</th>\n",
       "      <td>0.0</td>\n",
       "      <td>0.0</td>\n",
       "      <td>0.0</td>\n",
       "      <td>0.0</td>\n",
       "      <td>0.0</td>\n",
       "      <td>hospDom</td>\n",
       "      <td>2016</td>\n",
       "      <td>1047</td>\n",
       "    </tr>\n",
       "    <tr>\n",
       "      <th>55325</th>\n",
       "      <td>0.0</td>\n",
       "      <td>0.0</td>\n",
       "      <td>0.0</td>\n",
       "      <td>0.0</td>\n",
       "      <td>0.0</td>\n",
       "      <td>hospDom</td>\n",
       "      <td>2016</td>\n",
       "      <td>635</td>\n",
       "    </tr>\n",
       "  </tbody>\n",
       "</table>\n",
       "<p>55326 rows × 8 columns</p>\n",
       "</div>"
      ],
      "text/plain": [
       "       particulares  aseguradoras  aseguradoras_enfermedad  \\\n",
       "0               0.0      103677.0                  64383.0   \n",
       "1          324687.0      478280.0                 392084.0   \n",
       "2          793512.0     1803352.0                1803352.0   \n",
       "3               0.0           0.0                      0.0   \n",
       "4           24406.0       63557.0                  55091.0   \n",
       "...             ...           ...                      ...   \n",
       "55321           0.0           0.0                      0.0   \n",
       "55322           0.0           0.0                      0.0   \n",
       "55323           0.0           0.0                      0.0   \n",
       "55324           0.0           0.0                      0.0   \n",
       "55325           0.0           0.0                      0.0   \n",
       "\n",
       "       aseguradoreas_trafico    mutuas      tipo   año  ncodi  \n",
       "0                    39294.0   61456.0  Hospital  2013    990  \n",
       "1                    86196.0  484228.0  Hospital  2013    680  \n",
       "2                        0.0   20402.0  Hospital  2013    411  \n",
       "3                        0.0       0.0  Hospital  2013    241  \n",
       "4                     8466.0   44106.0  Hospital  2013    558  \n",
       "...                      ...       ...       ...   ...    ...  \n",
       "55321                    0.0       0.0   hospDom  2016    970  \n",
       "55322                    0.0       0.0   hospDom  2016   1019  \n",
       "55323                    0.0       0.0   hospDom  2016   1016  \n",
       "55324                    0.0       0.0   hospDom  2016   1047  \n",
       "55325                    0.0       0.0   hospDom  2016    635  \n",
       "\n",
       "[55326 rows x 8 columns]"
      ]
     },
     "execution_count": 77,
     "metadata": {},
     "output_type": "execute_result"
    }
   ],
   "source": [
    "df_ingresos.map()"
   ]
  },
  {
   "cell_type": "code",
   "execution_count": 76,
   "metadata": {},
   "outputs": [
    {
     "data": {
      "text/html": [
       "<div>\n",
       "<style scoped>\n",
       "    .dataframe tbody tr th:only-of-type {\n",
       "        vertical-align: middle;\n",
       "    }\n",
       "\n",
       "    .dataframe tbody tr th {\n",
       "        vertical-align: top;\n",
       "    }\n",
       "\n",
       "    .dataframe thead th {\n",
       "        text-align: right;\n",
       "    }\n",
       "</style>\n",
       "<table border=\"1\" class=\"dataframe\">\n",
       "  <thead>\n",
       "    <tr style=\"text-align: right;\">\n",
       "      <th></th>\n",
       "      <th>tipo_ingreso_id</th>\n",
       "      <th>nombre</th>\n",
       "    </tr>\n",
       "  </thead>\n",
       "  <tbody>\n",
       "    <tr>\n",
       "      <th>0</th>\n",
       "      <td>0</td>\n",
       "      <td>Hospital</td>\n",
       "    </tr>\n",
       "    <tr>\n",
       "      <th>1</th>\n",
       "      <td>1</td>\n",
       "      <td>consulExter</td>\n",
       "    </tr>\n",
       "    <tr>\n",
       "      <th>2</th>\n",
       "      <td>2</td>\n",
       "      <td>CMA</td>\n",
       "    </tr>\n",
       "    <tr>\n",
       "      <th>3</th>\n",
       "      <td>3</td>\n",
       "      <td>hospDia</td>\n",
       "    </tr>\n",
       "    <tr>\n",
       "      <th>4</th>\n",
       "      <td>4</td>\n",
       "      <td>Urgencia</td>\n",
       "    </tr>\n",
       "    <tr>\n",
       "      <th>5</th>\n",
       "      <td>5</td>\n",
       "      <td>hospDom</td>\n",
       "    </tr>\n",
       "  </tbody>\n",
       "</table>\n",
       "</div>"
      ],
      "text/plain": [
       "   tipo_ingreso_id       nombre\n",
       "0                0     Hospital\n",
       "1                1  consulExter\n",
       "2                2          CMA\n",
       "3                3      hospDia\n",
       "4                4     Urgencia\n",
       "5                5      hospDom"
      ]
     },
     "execution_count": 76,
     "metadata": {},
     "output_type": "execute_result"
    }
   ],
   "source": [
    "df_tipo_hosp"
   ]
  },
  {
   "cell_type": "code",
   "execution_count": null,
   "metadata": {},
   "outputs": [],
   "source": [
    "    anio INT not null,\n",
    "    totalcompra NUMERIC, \n",
    "    producfarma NUMERIC, \n",
    "    materialsani NUMERIC, \n",
    "    implantes NUMERIC, \n",
    "    restomateriasani NUMERIC, \n",
    "    servcontratado NUMERIC , \n",
    "    trabajocontratado NUMERIC , \n",
    "    xrestocompras NUMERIC , \n",
    "    variaexistencias NUMERIC , \n",
    "    servexteriores NUMERIC , \n",
    "    sumistro NUMERIC , \n",
    "    xrestoserviexter NUMERIC , \n",
    "    gastopersonal NUMERIC , \n",
    "    sueldos NUMERIC , \n",
    "    indemnizacion NUMERIC , \n",
    "    segsocempresa NUMERIC , \n",
    "    otrgassocial NUMERIC , \n",
    "    dotaamortizacion NUMERIC, \n",
    "    perdidadeterioro NUMERIC, \n",
    "    xrestogasto NUMERIC , \n",
    "    totcompragasto NUMERIC,\n",
    "    ncodi INT references hospitales(ncodi)"
   ]
  },
  {
   "cell_type": "code",
   "execution_count": 70,
   "metadata": {},
   "outputs": [
    {
     "data": {
      "text/plain": [
       "Index(['año', 'ncodi', 'totalcompra', 'producfarma', 'materialsani',\n",
       "       'implantes', 'restomateriasani', 'servcontratado', 'trabajocontratado',\n",
       "       'xrestocompras', 'variaexistencias', 'servexteriores', 'sumistro',\n",
       "       'xrestoserviexter', 'gastopersonal', 'sueldos', 'indemnizacion',\n",
       "       'segsocempresa', 'otrgassocial', 'dotaamortizacion', 'perdidadeterioro',\n",
       "       'xrestogasto', 'totcompragasto'],\n",
       "      dtype='object')"
      ]
     },
     "execution_count": 70,
     "metadata": {},
     "output_type": "execute_result"
    }
   ],
   "source": [
    "df_gastos.columns"
   ]
  },
  {
   "cell_type": "code",
   "execution_count": null,
   "metadata": {},
   "outputs": [],
   "source": [
    "df_gastos = df_gastos.reindex(['año', 'totalcompra', 'producfarma', 'materialsani',\n",
    "       'implantes', 'restomateriasani', 'servcontratado', 'trabajocontratado',\n",
    "       'xrestocompras', 'variaexistencias', 'servexteriores', 'sumistro',\n",
    "       'xrestoserviexter', 'gastopersonal', 'sueldos', 'indemnizacion',\n",
    "       'segsocempresa', 'otrgassocial', 'dotaamortizacion', 'perdidadeterioro',\n",
    "       'xrestogasto', 'totcompragasto', 'ncodi'], axis=1)"
   ]
  },
  {
   "cell_type": "code",
   "execution_count": null,
   "metadata": {},
   "outputs": [],
   "source": [
    "values_hospitales = [tuple(row) for row in df_hospitales.values]\n",
    "data_insertion(query_insertion_hospitales, values_hospitales)\n",
    "\n",
    "values_tipo_hosp = [tuple(row) for row in df_tipo_hosp.values]\n",
    "data_insertion(query_insertion_tipo_hosp, values_tipo_hosp)\n",
    "\n",
    "values_gastos = [tuple(row) for row in df_gastos.values]\n",
    "data_insertion(query_insertion_gastos, values_gastos)\n",
    "\n",
    "values_ingresos = [tuple(row) for row in df_ingresos.values]\n",
    "data_insertion(query_insertion_ingresos, values_ingresos)"
   ]
  }
 ],
 "metadata": {
  "kernelspec": {
   "display_name": "proyecto5",
   "language": "python",
   "name": "python3"
  },
  "language_info": {
   "codemirror_mode": {
    "name": "ipython",
    "version": 3
   },
   "file_extension": ".py",
   "mimetype": "text/x-python",
   "name": "python",
   "nbconvert_exporter": "python",
   "pygments_lexer": "ipython3",
   "version": "3.12.7"
  }
 },
 "nbformat": 4,
 "nbformat_minor": 2
}
