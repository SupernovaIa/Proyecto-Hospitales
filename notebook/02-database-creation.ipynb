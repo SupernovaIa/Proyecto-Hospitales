{
 "cells": [
  {
   "cell_type": "code",
   "execution_count": 6,
   "metadata": {},
   "outputs": [],
   "source": [
    "# Working with databases in Python\n",
    "# -----------------------------------------------------------------------\n",
    "import psycopg2\n",
    "from psycopg2 import OperationalError, errorcodes, errors\n",
    "\n",
    "# Working with Dataframes\n",
    "# -----------------------------------------------------------------------\n",
    "import pandas as pd\n",
    "\n",
    "# Path configuration for custom module imports\n",
    "# -----------------------------------------------------------------------\n",
    "import sys\n",
    "sys.path.append('../')  # Adds the parent directory to the path for custom module imports\n",
    "\n",
    "from src.support import table_creation, data_insertion\n"
   ]
  },
  {
   "cell_type": "code",
   "execution_count": 16,
   "metadata": {},
   "outputs": [],
   "source": [
    "# Centro hospitalario\n",
    "query_creation_hospitales = \"\"\"\n",
    "create table if not exists hospitales (\n",
    "    ncodi INT primary key,\n",
    "    name VARCHAR(300)\n",
    ");\n",
    "\"\"\"\n",
    "\n",
    "# Tipos\n",
    "query_creation_tipo_hosp = \"\"\"\n",
    "create table if not exists tipo_hospitalizacion (\n",
    "    tipo_id SERIAL primary key,\n",
    "    nombre VARCHAR(100) unique not null\n",
    "    );\n",
    "\"\"\"\n",
    "\n",
    "# Gastos\n",
    "query_creation_gastos = \"\"\"\n",
    "create table if not exists gastos (\n",
    "    gastos_id INT primary key,\n",
    "    año INT not null,\n",
    "    ncodi INT not null,\n",
    "    totalcompra DECIMAL(10, 2) not null, \n",
    "    producfarma DECIMAL(10, 2) not null, \n",
    "    materialsani DECIMAL(10, 2) not null, \n",
    "    implantes DECIMAL(10, 2) not null, \n",
    "    restomateriasani DECIMAL(10, 2) not null, \n",
    "    servcontratado DECIMAL(10, 2) not null, \n",
    "    trabajocontratado DECIMAL(10, 2) not null, \n",
    "    xrestocompras DECIMAL(10, 2) not null, \n",
    "    variaexistencias DECIMAL(10, 2) not null, \n",
    "    servexteriores DECIMAL(10, 2) not null, \n",
    "    sumistro DECIMAL(10, 2) not null, \n",
    "    xrestoserviexter DECIMAL(10, 2) not null, \n",
    "    gastopersonal DECIMAL(10, 2) not null, \n",
    "    sueldos DECIMAL(10, 2) not null, \n",
    "    indemnizacion DECIMAL(10, 2) not null, \n",
    "    segsocempresa DECIMAL(10, 2) not null, \n",
    "    otrgassocial DECIMAL(10, 2) not null, \n",
    "    dotaamortizacion DECIMAL(10, 2) not null, \n",
    "    perdidadeterioro DECIMAL(10, 2) not null, \n",
    "    xrestogasto DECIMAL(10, 2) not null, \n",
    "    totcompragasto DECIMAL(10, 2) not null,\n",
    "    foreign key (ncodi) references hospitales(ncodi)\n",
    ");\n",
    "\"\"\"\n",
    "\n",
    "# Ingresos\n",
    "query_creation_ingresos = \"\"\"\n",
    "create table if not exists ingresos (\n",
    "    id_ingresos INT primary key,\n",
    "    ncodi INT not null,\n",
    "    particulares DECIMAL(10, 2),\n",
    "    aseguradoras DECIMAL(10, 2),\n",
    "    aseguradoras_enfermedad DECIMAL(10, 2),\n",
    "    aseguradoras_trafico DECIMAL(10, 2),\n",
    "    mutuas DECIMAL(10, 2),\n",
    "    tipo_id INT not null,\n",
    "    foreign key (ncodi) references hospitales(ncodi),\n",
    "    foreign key (tipo_id) references tipo_hospitalizacion(tipo_id)\n",
    ");\"\"\"\n",
    "\n",
    "\n",
    "# List of queries ordered\n",
    "queries = [query_creation_hospitales, query_creation_tipo_hosp, query_creation_gastos, query_creation_ingresos]"
   ]
  },
  {
   "cell_type": "code",
   "execution_count": 17,
   "metadata": {},
   "outputs": [
    {
     "name": "stdout",
     "output_type": "stream",
     "text": [
      "Tables created successfully.\n",
      "Database connection closed.\n"
     ]
    }
   ],
   "source": [
    "table_creation(queries)"
   ]
  }
 ],
 "metadata": {
  "kernelspec": {
   "display_name": "proyecto5",
   "language": "python",
   "name": "python3"
  },
  "language_info": {
   "codemirror_mode": {
    "name": "ipython",
    "version": 3
   },
   "file_extension": ".py",
   "mimetype": "text/x-python",
   "name": "python",
   "nbconvert_exporter": "python",
   "pygments_lexer": "ipython3",
   "version": "3.12.7"
  }
 },
 "nbformat": 4,
 "nbformat_minor": 2
}
