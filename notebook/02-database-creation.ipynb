{
 "cells": [
  {
   "cell_type": "code",
   "execution_count": 1,
   "metadata": {},
   "outputs": [],
   "source": [
    "# Working with databases in Python\n",
    "# -----------------------------------------------------------------------\n",
    "import psycopg2\n",
    "from psycopg2 import OperationalError, errorcodes, errors\n",
    "\n",
    "# Working with Dataframes\n",
    "# -----------------------------------------------------------------------\n",
    "import pandas as pd\n",
    "\n",
    "# Path configuration for custom module imports\n",
    "# -----------------------------------------------------------------------\n",
    "import sys\n",
    "sys.path.append('../')  # Adds the parent directory to the path for custom module imports\n",
    "\n",
    "from src.support import table_creation, data_insertion\n",
    "from src.support_queries import query_creation_ingresos, query_creation_gastos, query_creation_hospitales, query_creation_tipo_hosp"
   ]
  },
  {
   "cell_type": "code",
   "execution_count": 2,
   "metadata": {},
   "outputs": [],
   "source": [
    "# List of queries ordered\n",
    "queries = [query_creation_hospitales, query_creation_tipo_hosp, query_creation_gastos, query_creation_ingresos]"
   ]
  },
  {
   "cell_type": "code",
   "execution_count": 3,
   "metadata": {},
   "outputs": [
    {
     "name": "stdout",
     "output_type": "stream",
     "text": [
      "Tables created successfully.\n",
      "Database connection closed.\n"
     ]
    }
   ],
   "source": [
    "table_creation(queries)"
   ]
  }
 ],
 "metadata": {
  "kernelspec": {
   "display_name": "proyecto5",
   "language": "python",
   "name": "python3"
  },
  "language_info": {
   "codemirror_mode": {
    "name": "ipython",
    "version": 3
   },
   "file_extension": ".py",
   "mimetype": "text/x-python",
   "name": "python",
   "nbconvert_exporter": "python",
   "pygments_lexer": "ipython3",
   "version": "3.12.7"
  }
 },
 "nbformat": 4,
 "nbformat_minor": 2
}
